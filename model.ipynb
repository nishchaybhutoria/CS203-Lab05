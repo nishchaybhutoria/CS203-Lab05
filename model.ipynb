{
 "cells": [
  {
   "metadata": {
    "ExecuteTime": {
     "end_time": "2025-02-10T12:33:36.359968Z",
     "start_time": "2025-02-10T12:33:34.463941Z"
    }
   },
   "cell_type": "code",
   "source": "!pip install transformers datasets torch torchvision scikit-learn matplotlib prettytable",
   "id": "eb90739a5b558feb",
   "outputs": [
    {
     "name": "stdout",
     "output_type": "stream",
     "text": [
      "Requirement already satisfied: transformers in ./.venv/lib/python3.13/site-packages (4.48.3)\r\n",
      "Requirement already satisfied: datasets in ./.venv/lib/python3.13/site-packages (3.2.0)\r\n",
      "Requirement already satisfied: torch in ./.venv/lib/python3.13/site-packages (2.6.0)\r\n",
      "Requirement already satisfied: torchvision in ./.venv/lib/python3.13/site-packages (0.21.0)\r\n",
      "Requirement already satisfied: scikit-learn in ./.venv/lib/python3.13/site-packages (1.6.1)\r\n",
      "Requirement already satisfied: matplotlib in ./.venv/lib/python3.13/site-packages (3.10.0)\r\n",
      "Requirement already satisfied: prettytable in ./.venv/lib/python3.13/site-packages (3.14.0)\r\n",
      "Requirement already satisfied: filelock in ./.venv/lib/python3.13/site-packages (from transformers) (3.17.0)\r\n",
      "Requirement already satisfied: huggingface-hub<1.0,>=0.24.0 in ./.venv/lib/python3.13/site-packages (from transformers) (0.28.1)\r\n",
      "Requirement already satisfied: numpy>=1.17 in ./.venv/lib/python3.13/site-packages (from transformers) (2.2.2)\r\n",
      "Requirement already satisfied: packaging>=20.0 in ./.venv/lib/python3.13/site-packages (from transformers) (24.2)\r\n",
      "Requirement already satisfied: pyyaml>=5.1 in ./.venv/lib/python3.13/site-packages (from transformers) (6.0.2)\r\n",
      "Requirement already satisfied: regex!=2019.12.17 in ./.venv/lib/python3.13/site-packages (from transformers) (2024.11.6)\r\n",
      "Requirement already satisfied: requests in ./.venv/lib/python3.13/site-packages (from transformers) (2.32.3)\r\n",
      "Requirement already satisfied: tokenizers<0.22,>=0.21 in ./.venv/lib/python3.13/site-packages (from transformers) (0.21.0)\r\n",
      "Requirement already satisfied: safetensors>=0.4.1 in ./.venv/lib/python3.13/site-packages (from transformers) (0.5.2)\r\n",
      "Requirement already satisfied: tqdm>=4.27 in ./.venv/lib/python3.13/site-packages (from transformers) (4.67.1)\r\n",
      "Requirement already satisfied: pyarrow>=15.0.0 in ./.venv/lib/python3.13/site-packages (from datasets) (19.0.0)\r\n",
      "Requirement already satisfied: dill<0.3.9,>=0.3.0 in ./.venv/lib/python3.13/site-packages (from datasets) (0.3.8)\r\n",
      "Requirement already satisfied: pandas in ./.venv/lib/python3.13/site-packages (from datasets) (2.2.3)\r\n",
      "Requirement already satisfied: xxhash in ./.venv/lib/python3.13/site-packages (from datasets) (3.5.0)\r\n",
      "Requirement already satisfied: multiprocess<0.70.17 in ./.venv/lib/python3.13/site-packages (from datasets) (0.70.16)\r\n",
      "Requirement already satisfied: fsspec[http]<=2024.9.0,>=2023.1.0 in ./.venv/lib/python3.13/site-packages (from datasets) (2024.9.0)\r\n",
      "Requirement already satisfied: aiohttp in ./.venv/lib/python3.13/site-packages (from datasets) (3.11.12)\r\n",
      "Requirement already satisfied: typing-extensions>=4.10.0 in ./.venv/lib/python3.13/site-packages (from torch) (4.12.2)\r\n",
      "Requirement already satisfied: networkx in ./.venv/lib/python3.13/site-packages (from torch) (3.4.2)\r\n",
      "Requirement already satisfied: jinja2 in ./.venv/lib/python3.13/site-packages (from torch) (3.1.5)\r\n",
      "Requirement already satisfied: nvidia-cuda-nvrtc-cu12==12.4.127 in ./.venv/lib/python3.13/site-packages (from torch) (12.4.127)\r\n",
      "Requirement already satisfied: nvidia-cuda-runtime-cu12==12.4.127 in ./.venv/lib/python3.13/site-packages (from torch) (12.4.127)\r\n",
      "Requirement already satisfied: nvidia-cuda-cupti-cu12==12.4.127 in ./.venv/lib/python3.13/site-packages (from torch) (12.4.127)\r\n",
      "Requirement already satisfied: nvidia-cudnn-cu12==9.1.0.70 in ./.venv/lib/python3.13/site-packages (from torch) (9.1.0.70)\r\n",
      "Requirement already satisfied: nvidia-cublas-cu12==12.4.5.8 in ./.venv/lib/python3.13/site-packages (from torch) (12.4.5.8)\r\n",
      "Requirement already satisfied: nvidia-cufft-cu12==11.2.1.3 in ./.venv/lib/python3.13/site-packages (from torch) (11.2.1.3)\r\n",
      "Requirement already satisfied: nvidia-curand-cu12==10.3.5.147 in ./.venv/lib/python3.13/site-packages (from torch) (10.3.5.147)\r\n",
      "Requirement already satisfied: nvidia-cusolver-cu12==11.6.1.9 in ./.venv/lib/python3.13/site-packages (from torch) (11.6.1.9)\r\n",
      "Requirement already satisfied: nvidia-cusparse-cu12==12.3.1.170 in ./.venv/lib/python3.13/site-packages (from torch) (12.3.1.170)\r\n",
      "Requirement already satisfied: nvidia-cusparselt-cu12==0.6.2 in ./.venv/lib/python3.13/site-packages (from torch) (0.6.2)\r\n",
      "Requirement already satisfied: nvidia-nccl-cu12==2.21.5 in ./.venv/lib/python3.13/site-packages (from torch) (2.21.5)\r\n",
      "Requirement already satisfied: nvidia-nvtx-cu12==12.4.127 in ./.venv/lib/python3.13/site-packages (from torch) (12.4.127)\r\n",
      "Requirement already satisfied: nvidia-nvjitlink-cu12==12.4.127 in ./.venv/lib/python3.13/site-packages (from torch) (12.4.127)\r\n",
      "Requirement already satisfied: triton==3.2.0 in ./.venv/lib/python3.13/site-packages (from torch) (3.2.0)\r\n",
      "Requirement already satisfied: setuptools in ./.venv/lib/python3.13/site-packages (from torch) (75.8.0)\r\n",
      "Requirement already satisfied: sympy==1.13.1 in ./.venv/lib/python3.13/site-packages (from torch) (1.13.1)\r\n",
      "Requirement already satisfied: mpmath<1.4,>=1.1.0 in ./.venv/lib/python3.13/site-packages (from sympy==1.13.1->torch) (1.3.0)\r\n",
      "Requirement already satisfied: pillow!=8.3.*,>=5.3.0 in ./.venv/lib/python3.13/site-packages (from torchvision) (11.1.0)\r\n",
      "Requirement already satisfied: scipy>=1.6.0 in ./.venv/lib/python3.13/site-packages (from scikit-learn) (1.15.1)\r\n",
      "Requirement already satisfied: joblib>=1.2.0 in ./.venv/lib/python3.13/site-packages (from scikit-learn) (1.4.2)\r\n",
      "Requirement already satisfied: threadpoolctl>=3.1.0 in ./.venv/lib/python3.13/site-packages (from scikit-learn) (3.5.0)\r\n",
      "Requirement already satisfied: contourpy>=1.0.1 in ./.venv/lib/python3.13/site-packages (from matplotlib) (1.3.1)\r\n",
      "Requirement already satisfied: cycler>=0.10 in ./.venv/lib/python3.13/site-packages (from matplotlib) (0.12.1)\r\n",
      "Requirement already satisfied: fonttools>=4.22.0 in ./.venv/lib/python3.13/site-packages (from matplotlib) (4.56.0)\r\n",
      "Requirement already satisfied: kiwisolver>=1.3.1 in ./.venv/lib/python3.13/site-packages (from matplotlib) (1.4.8)\r\n",
      "Requirement already satisfied: pyparsing>=2.3.1 in ./.venv/lib/python3.13/site-packages (from matplotlib) (3.2.1)\r\n",
      "Requirement already satisfied: python-dateutil>=2.7 in ./.venv/lib/python3.13/site-packages (from matplotlib) (2.9.0.post0)\r\n",
      "Requirement already satisfied: wcwidth in ./.venv/lib/python3.13/site-packages (from prettytable) (0.2.13)\r\n",
      "Requirement already satisfied: aiohappyeyeballs>=2.3.0 in ./.venv/lib/python3.13/site-packages (from aiohttp->datasets) (2.4.6)\r\n",
      "Requirement already satisfied: aiosignal>=1.1.2 in ./.venv/lib/python3.13/site-packages (from aiohttp->datasets) (1.3.2)\r\n",
      "Requirement already satisfied: attrs>=17.3.0 in ./.venv/lib/python3.13/site-packages (from aiohttp->datasets) (25.1.0)\r\n",
      "Requirement already satisfied: frozenlist>=1.1.1 in ./.venv/lib/python3.13/site-packages (from aiohttp->datasets) (1.5.0)\r\n",
      "Requirement already satisfied: multidict<7.0,>=4.5 in ./.venv/lib/python3.13/site-packages (from aiohttp->datasets) (6.1.0)\r\n",
      "Requirement already satisfied: propcache>=0.2.0 in ./.venv/lib/python3.13/site-packages (from aiohttp->datasets) (0.2.1)\r\n",
      "Requirement already satisfied: yarl<2.0,>=1.17.0 in ./.venv/lib/python3.13/site-packages (from aiohttp->datasets) (1.18.3)\r\n",
      "Requirement already satisfied: six>=1.5 in ./.venv/lib/python3.13/site-packages (from python-dateutil>=2.7->matplotlib) (1.17.0)\r\n",
      "Requirement already satisfied: charset-normalizer<4,>=2 in ./.venv/lib/python3.13/site-packages (from requests->transformers) (3.4.1)\r\n",
      "Requirement already satisfied: idna<4,>=2.5 in ./.venv/lib/python3.13/site-packages (from requests->transformers) (3.10)\r\n",
      "Requirement already satisfied: urllib3<3,>=1.21.1 in ./.venv/lib/python3.13/site-packages (from requests->transformers) (2.3.0)\r\n",
      "Requirement already satisfied: certifi>=2017.4.17 in ./.venv/lib/python3.13/site-packages (from requests->transformers) (2025.1.31)\r\n",
      "Requirement already satisfied: MarkupSafe>=2.0 in ./.venv/lib/python3.13/site-packages (from jinja2->torch) (3.0.2)\r\n",
      "Requirement already satisfied: pytz>=2020.1 in ./.venv/lib/python3.13/site-packages (from pandas->datasets) (2025.1)\r\n",
      "Requirement already satisfied: tzdata>=2022.7 in ./.venv/lib/python3.13/site-packages (from pandas->datasets) (2025.1)\r\n",
      "\r\n",
      "\u001B[1m[\u001B[0m\u001B[34;49mnotice\u001B[0m\u001B[1;39;49m]\u001B[0m\u001B[39;49m A new release of pip is available: \u001B[0m\u001B[31;49m23.2.1\u001B[0m\u001B[39;49m -> \u001B[0m\u001B[32;49m25.0\u001B[0m\r\n",
      "\u001B[1m[\u001B[0m\u001B[34;49mnotice\u001B[0m\u001B[1;39;49m]\u001B[0m\u001B[39;49m To update, run: \u001B[0m\u001B[32;49mpip install --upgrade pip\u001B[0m\r\n"
     ]
    }
   ],
   "execution_count": 1
  },
  {
   "cell_type": "code",
   "id": "initial_id",
   "metadata": {
    "collapsed": true,
    "ExecuteTime": {
     "end_time": "2025-02-10T12:33:39.096342Z",
     "start_time": "2025-02-10T12:33:36.370061Z"
    }
   },
   "source": [
    "import torch\n",
    "import torch.nn as nn\n",
    "import torch.optim as optim\n",
    "import torchvision.transforms as transforms\n",
    "import torchvision.datasets as datasets\n",
    "import torchvision.models as models\n",
    "from torch.utils.data import DataLoader\n",
    "from sklearn.metrics import accuracy_score, precision_score, recall_score, f1_score\n",
    "\n",
    "device = torch.device(\"cuda\" if torch.cuda.is_available() else \"cpu\")\n",
    "\n",
    "# Data transformations\n",
    "transform = transforms.Compose([\n",
    "    transforms.Resize((224, 224)),\n",
    "    transforms.ToTensor(),\n",
    "    transforms.Normalize(mean=[0.485, 0.456, 0.406], std=[0.229, 0.224, 0.225])\n",
    "])\n",
    "\n",
    "train_dataset = datasets.ImageFolder(\"./train\", transform=transform)\n",
    "test_dataset = datasets.ImageFolder(\"./test\", transform=transform)\n",
    "train_augmented_dataset = datasets.ImageFolder(\"./augmented\", transform=transform)\n",
    "\n",
    "train_loader = DataLoader(train_dataset, batch_size=32, shuffle=True)\n",
    "test_loader = DataLoader(test_dataset, batch_size=32, shuffle=False)\n",
    "train_augmented_loader = DataLoader(train_augmented_dataset, batch_size=32, shuffle=True)"
   ],
   "outputs": [],
   "execution_count": 2
  },
  {
   "metadata": {
    "ExecuteTime": {
     "end_time": "2025-02-10T12:33:39.429573Z",
     "start_time": "2025-02-10T12:33:39.146142Z"
    }
   },
   "cell_type": "code",
   "source": [
    "# Initialize model with empty weights\n",
    "model = models.resnet50(weights=None).to(device)\n",
    "criterion = nn.CrossEntropyLoss()\n",
    "optimizer = optim.Adam(model.parameters(), lr=0.001)\n",
    "\n",
    "\n",
    "# Training function\n",
    "def train_model(model, train_loader, epochs=15):\n",
    "    model.train()\n",
    "\n",
    "    for epoch in range(epochs):\n",
    "        total_loss = 0\n",
    "        for images, labels in train_loader:\n",
    "            images, labels = images.to(device), labels.to(device)\n",
    "            optimizer.zero_grad()\n",
    "            outputs = model(images)\n",
    "            loss = criterion(outputs, labels)\n",
    "            loss.backward()\n",
    "            optimizer.step()\n",
    "            total_loss += loss.item()\n",
    "\n",
    "        print(f\"Epoch {epoch + 1}, Loss: {total_loss / len(train_loader):.4f}\")"
   ],
   "id": "8d9c88ecb651eae0",
   "outputs": [],
   "execution_count": 3
  },
  {
   "metadata": {
    "ExecuteTime": {
     "end_time": "2025-02-10T12:33:39.440040Z",
     "start_time": "2025-02-10T12:33:39.436640Z"
    }
   },
   "cell_type": "code",
   "source": [
    "# Evaluation function\n",
    "def evaluate_model(model, test_loader):\n",
    "    model.eval()\n",
    "\n",
    "    all_preds, all_labels = [], []\n",
    "    with torch.no_grad():\n",
    "        for images, labels in test_loader:\n",
    "            images, labels = images.to(device), labels.to(device)\n",
    "            outputs = model(images)\n",
    "            preds = torch.argmax(outputs, dim=1).cpu().numpy()\n",
    "            all_preds.extend(preds)\n",
    "            all_labels.extend(labels.cpu().numpy())\n",
    "    \n",
    "    # Calculate metrics\n",
    "    acc = accuracy_score(all_labels, all_preds)\n",
    "    precision = precision_score(all_labels, all_preds, average='weighted', zero_division=0)\n",
    "    recall = recall_score(all_labels, all_preds, average='weighted', zero_division=0)\n",
    "    f1 = f1_score(all_labels, all_preds, average='weighted', zero_division=0)\n",
    "\n",
    "    print(f\"Accuracy: {acc:.4f}, Precision: {precision:.4f}, Recall: {recall:.4f}, F1 Score: {f1:.4f}\")\n",
    "    return acc, precision, recall, f1\n"
   ],
   "id": "34ea2cad6afc1371",
   "outputs": [],
   "execution_count": 4
  },
  {
   "metadata": {
    "ExecuteTime": {
     "end_time": "2025-02-10T12:33:39.503100Z",
     "start_time": "2025-02-10T12:33:39.490665Z"
    }
   },
   "cell_type": "code",
   "source": [
    "# Print the number of trainable parameters in a model\n",
    "\n",
    "from prettytable import PrettyTable\n",
    "\n",
    "table = PrettyTable([\"Module\", \"Parameters\"])\n",
    "\n",
    "total = 0\n",
    "for name, param in model.named_parameters():\n",
    "    if param.requires_grad:\n",
    "        count = param.numel()\n",
    "        table.add_row([name, count])\n",
    "        total += count\n",
    "\n",
    "print(table)\n",
    "print(f'Total Trainable Parameters: {total}')"
   ],
   "id": "651e94df95a43dac",
   "outputs": [
    {
     "name": "stdout",
     "output_type": "stream",
     "text": [
      "+------------------------------+------------+\n",
      "|            Module            | Parameters |\n",
      "+------------------------------+------------+\n",
      "|         conv1.weight         |    9408    |\n",
      "|          bn1.weight          |     64     |\n",
      "|           bn1.bias           |     64     |\n",
      "|    layer1.0.conv1.weight     |    4096    |\n",
      "|     layer1.0.bn1.weight      |     64     |\n",
      "|      layer1.0.bn1.bias       |     64     |\n",
      "|    layer1.0.conv2.weight     |   36864    |\n",
      "|     layer1.0.bn2.weight      |     64     |\n",
      "|      layer1.0.bn2.bias       |     64     |\n",
      "|    layer1.0.conv3.weight     |   16384    |\n",
      "|     layer1.0.bn3.weight      |    256     |\n",
      "|      layer1.0.bn3.bias       |    256     |\n",
      "| layer1.0.downsample.0.weight |   16384    |\n",
      "| layer1.0.downsample.1.weight |    256     |\n",
      "|  layer1.0.downsample.1.bias  |    256     |\n",
      "|    layer1.1.conv1.weight     |   16384    |\n",
      "|     layer1.1.bn1.weight      |     64     |\n",
      "|      layer1.1.bn1.bias       |     64     |\n",
      "|    layer1.1.conv2.weight     |   36864    |\n",
      "|     layer1.1.bn2.weight      |     64     |\n",
      "|      layer1.1.bn2.bias       |     64     |\n",
      "|    layer1.1.conv3.weight     |   16384    |\n",
      "|     layer1.1.bn3.weight      |    256     |\n",
      "|      layer1.1.bn3.bias       |    256     |\n",
      "|    layer1.2.conv1.weight     |   16384    |\n",
      "|     layer1.2.bn1.weight      |     64     |\n",
      "|      layer1.2.bn1.bias       |     64     |\n",
      "|    layer1.2.conv2.weight     |   36864    |\n",
      "|     layer1.2.bn2.weight      |     64     |\n",
      "|      layer1.2.bn2.bias       |     64     |\n",
      "|    layer1.2.conv3.weight     |   16384    |\n",
      "|     layer1.2.bn3.weight      |    256     |\n",
      "|      layer1.2.bn3.bias       |    256     |\n",
      "|    layer2.0.conv1.weight     |   32768    |\n",
      "|     layer2.0.bn1.weight      |    128     |\n",
      "|      layer2.0.bn1.bias       |    128     |\n",
      "|    layer2.0.conv2.weight     |   147456   |\n",
      "|     layer2.0.bn2.weight      |    128     |\n",
      "|      layer2.0.bn2.bias       |    128     |\n",
      "|    layer2.0.conv3.weight     |   65536    |\n",
      "|     layer2.0.bn3.weight      |    512     |\n",
      "|      layer2.0.bn3.bias       |    512     |\n",
      "| layer2.0.downsample.0.weight |   131072   |\n",
      "| layer2.0.downsample.1.weight |    512     |\n",
      "|  layer2.0.downsample.1.bias  |    512     |\n",
      "|    layer2.1.conv1.weight     |   65536    |\n",
      "|     layer2.1.bn1.weight      |    128     |\n",
      "|      layer2.1.bn1.bias       |    128     |\n",
      "|    layer2.1.conv2.weight     |   147456   |\n",
      "|     layer2.1.bn2.weight      |    128     |\n",
      "|      layer2.1.bn2.bias       |    128     |\n",
      "|    layer2.1.conv3.weight     |   65536    |\n",
      "|     layer2.1.bn3.weight      |    512     |\n",
      "|      layer2.1.bn3.bias       |    512     |\n",
      "|    layer2.2.conv1.weight     |   65536    |\n",
      "|     layer2.2.bn1.weight      |    128     |\n",
      "|      layer2.2.bn1.bias       |    128     |\n",
      "|    layer2.2.conv2.weight     |   147456   |\n",
      "|     layer2.2.bn2.weight      |    128     |\n",
      "|      layer2.2.bn2.bias       |    128     |\n",
      "|    layer2.2.conv3.weight     |   65536    |\n",
      "|     layer2.2.bn3.weight      |    512     |\n",
      "|      layer2.2.bn3.bias       |    512     |\n",
      "|    layer2.3.conv1.weight     |   65536    |\n",
      "|     layer2.3.bn1.weight      |    128     |\n",
      "|      layer2.3.bn1.bias       |    128     |\n",
      "|    layer2.3.conv2.weight     |   147456   |\n",
      "|     layer2.3.bn2.weight      |    128     |\n",
      "|      layer2.3.bn2.bias       |    128     |\n",
      "|    layer2.3.conv3.weight     |   65536    |\n",
      "|     layer2.3.bn3.weight      |    512     |\n",
      "|      layer2.3.bn3.bias       |    512     |\n",
      "|    layer3.0.conv1.weight     |   131072   |\n",
      "|     layer3.0.bn1.weight      |    256     |\n",
      "|      layer3.0.bn1.bias       |    256     |\n",
      "|    layer3.0.conv2.weight     |   589824   |\n",
      "|     layer3.0.bn2.weight      |    256     |\n",
      "|      layer3.0.bn2.bias       |    256     |\n",
      "|    layer3.0.conv3.weight     |   262144   |\n",
      "|     layer3.0.bn3.weight      |    1024    |\n",
      "|      layer3.0.bn3.bias       |    1024    |\n",
      "| layer3.0.downsample.0.weight |   524288   |\n",
      "| layer3.0.downsample.1.weight |    1024    |\n",
      "|  layer3.0.downsample.1.bias  |    1024    |\n",
      "|    layer3.1.conv1.weight     |   262144   |\n",
      "|     layer3.1.bn1.weight      |    256     |\n",
      "|      layer3.1.bn1.bias       |    256     |\n",
      "|    layer3.1.conv2.weight     |   589824   |\n",
      "|     layer3.1.bn2.weight      |    256     |\n",
      "|      layer3.1.bn2.bias       |    256     |\n",
      "|    layer3.1.conv3.weight     |   262144   |\n",
      "|     layer3.1.bn3.weight      |    1024    |\n",
      "|      layer3.1.bn3.bias       |    1024    |\n",
      "|    layer3.2.conv1.weight     |   262144   |\n",
      "|     layer3.2.bn1.weight      |    256     |\n",
      "|      layer3.2.bn1.bias       |    256     |\n",
      "|    layer3.2.conv2.weight     |   589824   |\n",
      "|     layer3.2.bn2.weight      |    256     |\n",
      "|      layer3.2.bn2.bias       |    256     |\n",
      "|    layer3.2.conv3.weight     |   262144   |\n",
      "|     layer3.2.bn3.weight      |    1024    |\n",
      "|      layer3.2.bn3.bias       |    1024    |\n",
      "|    layer3.3.conv1.weight     |   262144   |\n",
      "|     layer3.3.bn1.weight      |    256     |\n",
      "|      layer3.3.bn1.bias       |    256     |\n",
      "|    layer3.3.conv2.weight     |   589824   |\n",
      "|     layer3.3.bn2.weight      |    256     |\n",
      "|      layer3.3.bn2.bias       |    256     |\n",
      "|    layer3.3.conv3.weight     |   262144   |\n",
      "|     layer3.3.bn3.weight      |    1024    |\n",
      "|      layer3.3.bn3.bias       |    1024    |\n",
      "|    layer3.4.conv1.weight     |   262144   |\n",
      "|     layer3.4.bn1.weight      |    256     |\n",
      "|      layer3.4.bn1.bias       |    256     |\n",
      "|    layer3.4.conv2.weight     |   589824   |\n",
      "|     layer3.4.bn2.weight      |    256     |\n",
      "|      layer3.4.bn2.bias       |    256     |\n",
      "|    layer3.4.conv3.weight     |   262144   |\n",
      "|     layer3.4.bn3.weight      |    1024    |\n",
      "|      layer3.4.bn3.bias       |    1024    |\n",
      "|    layer3.5.conv1.weight     |   262144   |\n",
      "|     layer3.5.bn1.weight      |    256     |\n",
      "|      layer3.5.bn1.bias       |    256     |\n",
      "|    layer3.5.conv2.weight     |   589824   |\n",
      "|     layer3.5.bn2.weight      |    256     |\n",
      "|      layer3.5.bn2.bias       |    256     |\n",
      "|    layer3.5.conv3.weight     |   262144   |\n",
      "|     layer3.5.bn3.weight      |    1024    |\n",
      "|      layer3.5.bn3.bias       |    1024    |\n",
      "|    layer4.0.conv1.weight     |   524288   |\n",
      "|     layer4.0.bn1.weight      |    512     |\n",
      "|      layer4.0.bn1.bias       |    512     |\n",
      "|    layer4.0.conv2.weight     |  2359296   |\n",
      "|     layer4.0.bn2.weight      |    512     |\n",
      "|      layer4.0.bn2.bias       |    512     |\n",
      "|    layer4.0.conv3.weight     |  1048576   |\n",
      "|     layer4.0.bn3.weight      |    2048    |\n",
      "|      layer4.0.bn3.bias       |    2048    |\n",
      "| layer4.0.downsample.0.weight |  2097152   |\n",
      "| layer4.0.downsample.1.weight |    2048    |\n",
      "|  layer4.0.downsample.1.bias  |    2048    |\n",
      "|    layer4.1.conv1.weight     |  1048576   |\n",
      "|     layer4.1.bn1.weight      |    512     |\n",
      "|      layer4.1.bn1.bias       |    512     |\n",
      "|    layer4.1.conv2.weight     |  2359296   |\n",
      "|     layer4.1.bn2.weight      |    512     |\n",
      "|      layer4.1.bn2.bias       |    512     |\n",
      "|    layer4.1.conv3.weight     |  1048576   |\n",
      "|     layer4.1.bn3.weight      |    2048    |\n",
      "|      layer4.1.bn3.bias       |    2048    |\n",
      "|    layer4.2.conv1.weight     |  1048576   |\n",
      "|     layer4.2.bn1.weight      |    512     |\n",
      "|      layer4.2.bn1.bias       |    512     |\n",
      "|    layer4.2.conv2.weight     |  2359296   |\n",
      "|     layer4.2.bn2.weight      |    512     |\n",
      "|      layer4.2.bn2.bias       |    512     |\n",
      "|    layer4.2.conv3.weight     |  1048576   |\n",
      "|     layer4.2.bn3.weight      |    2048    |\n",
      "|      layer4.2.bn3.bias       |    2048    |\n",
      "|          fc.weight           |  2048000   |\n",
      "|           fc.bias            |    1000    |\n",
      "+------------------------------+------------+\n",
      "Total Trainable Parameters: 25557032\n"
     ]
    }
   ],
   "execution_count": 5
  },
  {
   "metadata": {
    "ExecuteTime": {
     "end_time": "2025-02-10T12:34:00.901841Z",
     "start_time": "2025-02-10T12:33:39.567014Z"
    }
   },
   "cell_type": "code",
   "source": [
    "print(\"Training on original dataset...\")\n",
    "train_model(model, train_loader)\n",
    "results_no_aug = evaluate_model(model, test_loader)"
   ],
   "id": "80c74d721cedfbba",
   "outputs": [
    {
     "name": "stdout",
     "output_type": "stream",
     "text": [
      "Training on original dataset...\n",
      "Epoch 1, Loss: 3.5586\n",
      "Epoch 2, Loss: 0.7073\n",
      "Epoch 3, Loss: 0.8346\n",
      "Epoch 4, Loss: 0.6136\n",
      "Epoch 5, Loss: 0.5653\n",
      "Epoch 6, Loss: 0.6039\n",
      "Epoch 7, Loss: 0.6240\n",
      "Epoch 8, Loss: 0.3677\n",
      "Epoch 9, Loss: 0.2780\n",
      "Epoch 10, Loss: 0.2499\n",
      "Epoch 11, Loss: 0.1468\n",
      "Epoch 12, Loss: 0.2059\n",
      "Epoch 13, Loss: 0.1616\n",
      "Epoch 14, Loss: 0.3493\n",
      "Epoch 15, Loss: 0.2494\n",
      "Accuracy: 0.4286, Precision: 0.3939, Recall: 0.4286, F1 Score: 0.3778\n"
     ]
    }
   ],
   "execution_count": 6
  },
  {
   "metadata": {
    "ExecuteTime": {
     "end_time": "2025-02-10T12:34:33.684159Z",
     "start_time": "2025-02-10T12:34:00.920151Z"
    }
   },
   "cell_type": "code",
   "source": [
    "print(\"Training on augmented dataset...\")\n",
    "train_model(model, train_augmented_loader)\n",
    "results_aug = evaluate_model(model, test_loader)"
   ],
   "id": "d4e9419ec0762cba",
   "outputs": [
    {
     "name": "stdout",
     "output_type": "stream",
     "text": [
      "Training on augmented dataset...\n",
      "Epoch 1, Loss: 0.8651\n",
      "Epoch 2, Loss: 0.5026\n",
      "Epoch 3, Loss: 0.4320\n",
      "Epoch 4, Loss: 0.1867\n",
      "Epoch 5, Loss: 0.1115\n",
      "Epoch 6, Loss: 0.1070\n",
      "Epoch 7, Loss: 0.2437\n",
      "Epoch 8, Loss: 0.4652\n",
      "Epoch 9, Loss: 0.3446\n",
      "Epoch 10, Loss: 0.2341\n",
      "Epoch 11, Loss: 0.0579\n",
      "Epoch 12, Loss: 0.0499\n",
      "Epoch 13, Loss: 0.0505\n",
      "Epoch 14, Loss: 0.0494\n",
      "Epoch 15, Loss: 0.0595\n",
      "Accuracy: 0.6429, Precision: 0.6458, Recall: 0.6429, F1 Score: 0.6410\n"
     ]
    }
   ],
   "execution_count": 7
  },
  {
   "metadata": {
    "ExecuteTime": {
     "end_time": "2025-02-10T12:37:27.715430Z",
     "start_time": "2025-02-10T12:37:27.661111Z"
    }
   },
   "cell_type": "code",
   "source": [
    "# Plot the results\n",
    "\n",
    "import matplotlib.pyplot as plt\n",
    "\n",
    "labels = [\"Accuracy\", \"Precision\", \"Recall\", \"F1 Score\"]\n",
    "\n",
    "x = range(len(labels))\n",
    "\n",
    "fig, ax = plt.subplots()\n",
    "rects1 = ax.bar(x, results_no_aug, width=0.35, label=\"Without Augmentation\")\n",
    "rects2 = ax.bar([i + 0.35 for i in x], results_aug, width=0.35, label=\"With Augmentation\")\n",
    "\n",
    "ax.set_ylabel(\"Scores\")\n",
    "ax.set_xlabel(\"Metrics\")\n",
    "ax.set_xticks([i + 0.35 / 2 for i in x])\n",
    "ax.set_xticklabels(labels)\n",
    "ax.legend()\n",
    "\n",
    "plt.show()"
   ],
   "id": "257792edab0e1fd1",
   "outputs": [
    {
     "data": {
      "text/plain": [
       "<Figure size 640x480 with 1 Axes>"
      ],
      "image/png": "[encoded data removed]"
     },
     "metadata": {},
     "output_type": "display_data"
    }
   ],
   "execution_count": 11
  },
  {
   "metadata": {},
   "cell_type": "markdown",
   "source": [
    "As we can see, the model trained with augmented data performs better than the model trained with the original data. This is because the augmented data provides more examples for the model to learn from, which helps it generalize better to unseen data. Overfitting is reduced due to the increased diversity of the training data, which causes the model's performance on the test set to improve.\n",
    "\n",
    "In our case, due to the few number of epochs, the model trained on augmented data still does not perform well. But it does beat the model trained on the original data by a fair margin. In practice, data augmentation is a common technique used to drastically improve model performance, especially when working with limited amounts of data."
   ],
   "id": "89e9524d3ce1f4e8"
  },
  {
   "metadata": {},
   "cell_type": "markdown",
   "source": [
    "Architecture of the ResNet model:\n",
    "<img src=\"./ResNet50Architecture.jpg\"/>"
   ],
   "id": "fc78b2307d19031c"
  }
 ],
 "metadata": {
  "kernelspec": {
   "display_name": "Python 3",
   "language": "python",
   "name": "python3"
  },
  "language_info": {
   "codemirror_mode": {
    "name": "ipython",
    "version": 2
   },
   "file_extension": ".py",
   "mimetype": "text/x-python",
   "name": "python",
   "nbconvert_exporter": "python",
   "pygments_lexer": "ipython2",
   "version": "2.7.6"
  }
 },
 "nbformat": 4,
 "nbformat_minor": 5
}
