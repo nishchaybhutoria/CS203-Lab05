{
 "cells": [
  {
   "metadata": {
    "ExecuteTime": {
     "end_time": "2025-02-09T00:59:07.156401Z",
     "start_time": "2025-02-09T00:59:03.609604Z"
    }
   },
   "cell_type": "code",
   "source": "!pip install transformers datasets torch torchvision scikit-learn matplotlib",
   "id": "eb90739a5b558feb",
   "outputs": [
    {
     "name": "stdout",
     "output_type": "stream",
     "text": [
      "Requirement already satisfied: transformers in ./.venv/lib/python3.13/site-packages (4.48.3)\r\n",
      "Requirement already satisfied: datasets in ./.venv/lib/python3.13/site-packages (3.2.0)\r\n",
      "Requirement already satisfied: torch in ./.venv/lib/python3.13/site-packages (2.6.0)\r\n",
      "Requirement already satisfied: torchvision in ./.venv/lib/python3.13/site-packages (0.21.0)\r\n",
      "Requirement already satisfied: scikit-learn in ./.venv/lib/python3.13/site-packages (1.6.1)\r\n",
      "Requirement already satisfied: matplotlib in ./.venv/lib/python3.13/site-packages (3.10.0)\r\n",
      "Requirement already satisfied: filelock in ./.venv/lib/python3.13/site-packages (from transformers) (3.17.0)\r\n",
      "Requirement already satisfied: huggingface-hub<1.0,>=0.24.0 in ./.venv/lib/python3.13/site-packages (from transformers) (0.28.1)\r\n",
      "Requirement already satisfied: numpy>=1.17 in ./.venv/lib/python3.13/site-packages (from transformers) (2.2.2)\r\n",
      "Requirement already satisfied: packaging>=20.0 in ./.venv/lib/python3.13/site-packages (from transformers) (24.2)\r\n",
      "Requirement already satisfied: pyyaml>=5.1 in ./.venv/lib/python3.13/site-packages (from transformers) (6.0.2)\r\n",
      "Requirement already satisfied: regex!=2019.12.17 in ./.venv/lib/python3.13/site-packages (from transformers) (2024.11.6)\r\n",
      "Requirement already satisfied: requests in ./.venv/lib/python3.13/site-packages (from transformers) (2.32.3)\r\n",
      "Requirement already satisfied: tokenizers<0.22,>=0.21 in ./.venv/lib/python3.13/site-packages (from transformers) (0.21.0)\r\n",
      "Requirement already satisfied: safetensors>=0.4.1 in ./.venv/lib/python3.13/site-packages (from transformers) (0.5.2)\r\n",
      "Requirement already satisfied: tqdm>=4.27 in ./.venv/lib/python3.13/site-packages (from transformers) (4.67.1)\r\n",
      "Requirement already satisfied: pyarrow>=15.0.0 in ./.venv/lib/python3.13/site-packages (from datasets) (19.0.0)\r\n",
      "Requirement already satisfied: dill<0.3.9,>=0.3.0 in ./.venv/lib/python3.13/site-packages (from datasets) (0.3.8)\r\n",
      "Requirement already satisfied: pandas in ./.venv/lib/python3.13/site-packages (from datasets) (2.2.3)\r\n",
      "Requirement already satisfied: xxhash in ./.venv/lib/python3.13/site-packages (from datasets) (3.5.0)\r\n",
      "Requirement already satisfied: multiprocess<0.70.17 in ./.venv/lib/python3.13/site-packages (from datasets) (0.70.16)\r\n",
      "Requirement already satisfied: fsspec[http]<=2024.9.0,>=2023.1.0 in ./.venv/lib/python3.13/site-packages (from datasets) (2024.9.0)\r\n",
      "Requirement already satisfied: aiohttp in ./.venv/lib/python3.13/site-packages (from datasets) (3.11.12)\r\n",
      "Requirement already satisfied: typing-extensions>=4.10.0 in ./.venv/lib/python3.13/site-packages (from torch) (4.12.2)\r\n",
      "Requirement already satisfied: networkx in ./.venv/lib/python3.13/site-packages (from torch) (3.4.2)\r\n",
      "Requirement already satisfied: jinja2 in ./.venv/lib/python3.13/site-packages (from torch) (3.1.5)\r\n",
      "Requirement already satisfied: nvidia-cuda-nvrtc-cu12==12.4.127 in ./.venv/lib/python3.13/site-packages (from torch) (12.4.127)\r\n",
      "Requirement already satisfied: nvidia-cuda-runtime-cu12==12.4.127 in ./.venv/lib/python3.13/site-packages (from torch) (12.4.127)\r\n",
      "Requirement already satisfied: nvidia-cuda-cupti-cu12==12.4.127 in ./.venv/lib/python3.13/site-packages (from torch) (12.4.127)\r\n",
      "Requirement already satisfied: nvidia-cudnn-cu12==9.1.0.70 in ./.venv/lib/python3.13/site-packages (from torch) (9.1.0.70)\r\n",
      "Requirement already satisfied: nvidia-cublas-cu12==12.4.5.8 in ./.venv/lib/python3.13/site-packages (from torch) (12.4.5.8)\r\n",
      "Requirement already satisfied: nvidia-cufft-cu12==11.2.1.3 in ./.venv/lib/python3.13/site-packages (from torch) (11.2.1.3)\r\n",
      "Requirement already satisfied: nvidia-curand-cu12==10.3.5.147 in ./.venv/lib/python3.13/site-packages (from torch) (10.3.5.147)\r\n",
      "Requirement already satisfied: nvidia-cusolver-cu12==11.6.1.9 in ./.venv/lib/python3.13/site-packages (from torch) (11.6.1.9)\r\n",
      "Requirement already satisfied: nvidia-cusparse-cu12==12.3.1.170 in ./.venv/lib/python3.13/site-packages (from torch) (12.3.1.170)\r\n",
      "Requirement already satisfied: nvidia-cusparselt-cu12==0.6.2 in ./.venv/lib/python3.13/site-packages (from torch) (0.6.2)\r\n",
      "Requirement already satisfied: nvidia-nccl-cu12==2.21.5 in ./.venv/lib/python3.13/site-packages (from torch) (2.21.5)\r\n",
      "Requirement already satisfied: nvidia-nvtx-cu12==12.4.127 in ./.venv/lib/python3.13/site-packages (from torch) (12.4.127)\r\n",
      "Requirement already satisfied: nvidia-nvjitlink-cu12==12.4.127 in ./.venv/lib/python3.13/site-packages (from torch) (12.4.127)\r\n",
      "Requirement already satisfied: triton==3.2.0 in ./.venv/lib/python3.13/site-packages (from torch) (3.2.0)\r\n",
      "Requirement already satisfied: setuptools in ./.venv/lib/python3.13/site-packages (from torch) (75.8.0)\r\n",
      "Requirement already satisfied: sympy==1.13.1 in ./.venv/lib/python3.13/site-packages (from torch) (1.13.1)\r\n",
      "Requirement already satisfied: mpmath<1.4,>=1.1.0 in ./.venv/lib/python3.13/site-packages (from sympy==1.13.1->torch) (1.3.0)\r\n",
      "Requirement already satisfied: pillow!=8.3.*,>=5.3.0 in ./.venv/lib/python3.13/site-packages (from torchvision) (11.1.0)\r\n",
      "Requirement already satisfied: scipy>=1.6.0 in ./.venv/lib/python3.13/site-packages (from scikit-learn) (1.15.1)\r\n",
      "Requirement already satisfied: joblib>=1.2.0 in ./.venv/lib/python3.13/site-packages (from scikit-learn) (1.4.2)\r\n",
      "Requirement already satisfied: threadpoolctl>=3.1.0 in ./.venv/lib/python3.13/site-packages (from scikit-learn) (3.5.0)\r\n",
      "Requirement already satisfied: contourpy>=1.0.1 in ./.venv/lib/python3.13/site-packages (from matplotlib) (1.3.1)\r\n",
      "Requirement already satisfied: cycler>=0.10 in ./.venv/lib/python3.13/site-packages (from matplotlib) (0.12.1)\r\n",
      "Requirement already satisfied: fonttools>=4.22.0 in ./.venv/lib/python3.13/site-packages (from matplotlib) (4.56.0)\r\n",
      "Requirement already satisfied: kiwisolver>=1.3.1 in ./.venv/lib/python3.13/site-packages (from matplotlib) (1.4.8)\r\n",
      "Requirement already satisfied: pyparsing>=2.3.1 in ./.venv/lib/python3.13/site-packages (from matplotlib) (3.2.1)\r\n",
      "Requirement already satisfied: python-dateutil>=2.7 in ./.venv/lib/python3.13/site-packages (from matplotlib) (2.9.0.post0)\r\n",
      "Requirement already satisfied: aiohappyeyeballs>=2.3.0 in ./.venv/lib/python3.13/site-packages (from aiohttp->datasets) (2.4.6)\r\n",
      "Requirement already satisfied: aiosignal>=1.1.2 in ./.venv/lib/python3.13/site-packages (from aiohttp->datasets) (1.3.2)\r\n",
      "Requirement already satisfied: attrs>=17.3.0 in ./.venv/lib/python3.13/site-packages (from aiohttp->datasets) (25.1.0)\r\n",
      "Requirement already satisfied: frozenlist>=1.1.1 in ./.venv/lib/python3.13/site-packages (from aiohttp->datasets) (1.5.0)\r\n",
      "Requirement already satisfied: multidict<7.0,>=4.5 in ./.venv/lib/python3.13/site-packages (from aiohttp->datasets) (6.1.0)\r\n",
      "Requirement already satisfied: propcache>=0.2.0 in ./.venv/lib/python3.13/site-packages (from aiohttp->datasets) (0.2.1)\r\n",
      "Requirement already satisfied: yarl<2.0,>=1.17.0 in ./.venv/lib/python3.13/site-packages (from aiohttp->datasets) (1.18.3)\r\n",
      "Requirement already satisfied: six>=1.5 in ./.venv/lib/python3.13/site-packages (from python-dateutil>=2.7->matplotlib) (1.17.0)\r\n",
      "Requirement already satisfied: charset-normalizer<4,>=2 in ./.venv/lib/python3.13/site-packages (from requests->transformers) (3.4.1)\r\n",
      "Requirement already satisfied: idna<4,>=2.5 in ./.venv/lib/python3.13/site-packages (from requests->transformers) (3.10)\r\n",
      "Requirement already satisfied: urllib3<3,>=1.21.1 in ./.venv/lib/python3.13/site-packages (from requests->transformers) (2.3.0)\r\n",
      "Requirement already satisfied: certifi>=2017.4.17 in ./.venv/lib/python3.13/site-packages (from requests->transformers) (2025.1.31)\r\n",
      "Requirement already satisfied: MarkupSafe>=2.0 in ./.venv/lib/python3.13/site-packages (from jinja2->torch) (3.0.2)\r\n",
      "Requirement already satisfied: pytz>=2020.1 in ./.venv/lib/python3.13/site-packages (from pandas->datasets) (2025.1)\r\n",
      "Requirement already satisfied: tzdata>=2022.7 in ./.venv/lib/python3.13/site-packages (from pandas->datasets) (2025.1)\r\n",
      "\r\n",
      "\u001B[1m[\u001B[0m\u001B[34;49mnotice\u001B[0m\u001B[1;39;49m]\u001B[0m\u001B[39;49m A new release of pip is available: \u001B[0m\u001B[31;49m23.2.1\u001B[0m\u001B[39;49m -> \u001B[0m\u001B[32;49m25.0\u001B[0m\r\n",
      "\u001B[1m[\u001B[0m\u001B[34;49mnotice\u001B[0m\u001B[1;39;49m]\u001B[0m\u001B[39;49m To update, run: \u001B[0m\u001B[32;49mpip install --upgrade pip\u001B[0m\r\n"
     ]
    }
   ],
   "execution_count": 36
  },
  {
   "cell_type": "code",
   "id": "initial_id",
   "metadata": {
    "collapsed": true,
    "ExecuteTime": {
     "end_time": "2025-02-09T00:59:07.169168Z",
     "start_time": "2025-02-09T00:59:07.161682Z"
    }
   },
   "source": [
    "import os\n",
    "import copy\n",
    "import torch\n",
    "import torch.nn as nn\n",
    "import torch.optim as optim\n",
    "from torch.utils.data import DataLoader, ConcatDataset\n",
    "from torchvision import transforms, datasets\n",
    "from transformers import ResNetConfig, ResNetForImageClassification, AutoImageProcessor\n",
    "import numpy as np\n",
    "from sklearn.metrics import accuracy_score, precision_score, recall_score, f1_score\n",
    "import random\n",
    "\n",
    "# Set random seeds for reproducibility\n",
    "seed = 42\n",
    "torch.manual_seed(seed)\n",
    "np.random.seed(seed)\n",
    "random.seed(seed)\n",
    "\n",
    "# Directories for dataset\n",
    "train_dir = './train'\n",
    "augmented_dir = './augmented'\n",
    "test_dir = './test'"
   ],
   "outputs": [],
   "execution_count": 37
  },
  {
   "metadata": {
    "ExecuteTime": {
     "end_time": "2025-02-09T00:59:07.644852Z",
     "start_time": "2025-02-09T00:59:07.398387Z"
    }
   },
   "cell_type": "code",
   "source": [
    "image_processor = AutoImageProcessor.from_pretrained(\"microsoft/resnet-50\")\n",
    "mean = image_processor.image_mean\n",
    "std = image_processor.image_std\n",
    "\n",
    "train_transform = transforms.Compose([\n",
    "    transforms.Resize((224, 224)),\n",
    "    transforms.ToTensor(),\n",
    "    transforms.Normalize(mean=mean, std=std)\n",
    "])\n",
    "\n",
    "eval_transform = transforms.Compose([\n",
    "    transforms.Resize((224, 224)),\n",
    "    transforms.ToTensor(),\n",
    "    transforms.Normalize(mean=mean, std=std)\n",
    "])\n",
    "\n",
    "train_dataset = datasets.ImageFolder(root=train_dir, transform=train_transform)\n",
    "augmented_dataset = datasets.ImageFolder(root=augmented_dir, transform=train_transform)\n",
    "train_dataset_aug = ConcatDataset([train_dataset, augmented_dataset])\n",
    "\n",
    "test_dataset = datasets.ImageFolder(root=test_dir, transform=eval_transform)"
   ],
   "id": "76ea41c7b7c94b1c",
   "outputs": [],
   "execution_count": 38
  },
  {
   "metadata": {
    "ExecuteTime": {
     "end_time": "2025-02-09T00:59:07.960240Z",
     "start_time": "2025-02-09T00:59:07.798666Z"
    }
   },
   "cell_type": "code",
   "source": [
    "batch_size = 32\n",
    "train_loader = DataLoader(train_dataset, batch_size=batch_size, shuffle=True)\n",
    "train_aug_loader = DataLoader(train_dataset_aug, batch_size=batch_size, shuffle=True)\n",
    "test_loader = DataLoader(test_dataset, batch_size=batch_size, shuffle=False)\n",
    "\n",
    "\n",
    "def train_model(model, dataloader, epochs=5, lr=1e-3, device='cuda' if torch.cuda.is_available() else 'cpu'):\n",
    "    results = []\n",
    "    \n",
    "    model.to(device)\n",
    "    optimizer = optim.Adam(model.parameters(), lr=lr)\n",
    "    criterion = nn.CrossEntropyLoss()\n",
    "    model.train()\n",
    "\n",
    "    for epoch in range(epochs):\n",
    "        running_loss = 0.0\n",
    "        for images, labels in dataloader:\n",
    "            images, labels = images.to(device), labels.to(device)\n",
    "            optimizer.zero_grad()\n",
    "\n",
    "            outputs = model(images).logits\n",
    "            loss = criterion(outputs, labels)\n",
    "            loss.backward()\n",
    "            optimizer.step()\n",
    "            running_loss += loss.item()\n",
    "\n",
    "        avg_loss = running_loss / len(dataloader)\n",
    "        print(f\"Epoch {epoch + 1}/{epochs}, Loss: {avg_loss:.4f}\")\n",
    "\n",
    "        results.append(evaluate_model(model, test_loader, device=device))\n",
    "        model.train()\n",
    "\n",
    "    return model, results\n",
    "\n",
    "\n",
    "def evaluate_model(model, dataloader, device='cuda' if torch.cuda.is_available() else 'cpu'):\n",
    "    model.eval()\n",
    "    all_preds = []\n",
    "    all_labels = []\n",
    "\n",
    "    with torch.no_grad():\n",
    "        for images, labels in dataloader:\n",
    "            images = images.to(device)\n",
    "            outputs = model(images).logits\n",
    "            preds = torch.argmax(outputs, dim=1).cpu().numpy()\n",
    "            all_preds.extend(preds)\n",
    "            all_labels.extend(labels.numpy())\n",
    "\n",
    "    accuracy = accuracy_score(all_labels, all_preds)\n",
    "    precision = precision_score(all_labels, all_preds, average='weighted', zero_division=0)\n",
    "    recall = recall_score(all_labels, all_preds, average='weighted', zero_division=0)\n",
    "    f1 = f1_score(all_labels, all_preds, average='weighted', zero_division=0)\n",
    "\n",
    "    return accuracy, precision, recall, f1\n",
    "\n",
    "\n",
    "config = ResNetConfig(num_labels=2)\n",
    "model_init = ResNetForImageClassification(config)\n",
    "\n",
    "initial_state = copy.deepcopy(model_init.state_dict())"
   ],
   "id": "34ea2cad6afc1371",
   "outputs": [],
   "execution_count": 39
  },
  {
   "metadata": {
    "ExecuteTime": {
     "end_time": "2025-02-09T00:59:54.975617Z",
     "start_time": "2025-02-09T00:59:08.123046Z"
    }
   },
   "cell_type": "code",
   "source": [
    "print(\"Training model on original train set (no augmentation)\")\n",
    "\n",
    "config = ResNetConfig(num_labels=2)\n",
    "model_no_aug = ResNetForImageClassification(config)\n",
    "\n",
    "model_no_aug.load_state_dict(initial_state)\n",
    "model_no_aug, results_no_aug = train_model(model_no_aug, train_loader, epochs=30)\n",
    "acc_no_aug, prec_no_aug, rec_no_aug, f1_no_aug = results_no_aug[-1]\n",
    "print(\"Test metrics (No Augmentation):\")\n",
    "print(f\"Accuracy: {acc_no_aug:.4f}, Precision: {prec_no_aug:.4f}, Recall: {rec_no_aug:.4f}, F1 Score: {f1_no_aug:.4f}\")"
   ],
   "id": "86495057605fc212",
   "outputs": [
    {
     "name": "stdout",
     "output_type": "stream",
     "text": [
      "Training model on original train set (no augmentation)\n",
      "Epoch 1/30, Loss: 2.3381\n",
      "Epoch 2/30, Loss: 1.4357\n",
      "Epoch 3/30, Loss: 0.7980\n",
      "Epoch 4/30, Loss: 0.6657\n",
      "Epoch 5/30, Loss: 0.7112\n",
      "Epoch 6/30, Loss: 0.6552\n",
      "Epoch 7/30, Loss: 0.6222\n",
      "Epoch 8/30, Loss: 0.6513\n",
      "Epoch 9/30, Loss: 0.4697\n",
      "Epoch 10/30, Loss: 0.3920\n",
      "Epoch 11/30, Loss: 0.1669\n",
      "Epoch 12/30, Loss: 0.0939\n",
      "Epoch 13/30, Loss: 0.2272\n",
      "Epoch 14/30, Loss: 0.3884\n",
      "Epoch 15/30, Loss: 0.4629\n",
      "Epoch 16/30, Loss: 0.4091\n",
      "Epoch 17/30, Loss: 0.2319\n",
      "Epoch 18/30, Loss: 0.2664\n",
      "Epoch 19/30, Loss: 0.1630\n",
      "Epoch 20/30, Loss: 0.1507\n",
      "Epoch 21/30, Loss: 0.0671\n",
      "Epoch 22/30, Loss: 0.0655\n",
      "Epoch 23/30, Loss: 0.0542\n",
      "Epoch 24/30, Loss: 0.1087\n",
      "Epoch 25/30, Loss: 0.0535\n",
      "Epoch 26/30, Loss: 0.3979\n",
      "Epoch 27/30, Loss: 0.2999\n",
      "Epoch 28/30, Loss: 0.3603\n",
      "Epoch 29/30, Loss: 0.2217\n",
      "Epoch 30/30, Loss: 0.1632\n",
      "Test metrics (No Augmentation):\n",
      "Accuracy: 0.4286, Precision: 0.4125, Recall: 0.4286, F1 Score: 0.4011\n"
     ]
    }
   ],
   "execution_count": 40
  },
  {
   "metadata": {
    "ExecuteTime": {
     "end_time": "2025-02-09T01:02:52.329776Z",
     "start_time": "2025-02-09T00:59:55.145187Z"
    }
   },
   "cell_type": "code",
   "source": [
    "print(\"\\nTraining model on augmented train set\")\n",
    "\n",
    "config = ResNetConfig(num_labels=2)\n",
    "model_aug = ResNetForImageClassification(config)\n",
    "\n",
    "model_aug.load_state_dict(initial_state)\n",
    "model_aug, results_aug = train_model(model_aug, train_aug_loader, epochs=50)\n",
    "acc_aug, prec_aug, rec_aug, f1_aug = results_aug[-1]\n",
    "print(\"Test metrics (With Augmentation):\")\n",
    "print(f\"Accuracy: {acc_aug:.4f}, Precision: {prec_aug:.4f}, Recall: {rec_aug:.4f}, F1 Score: {f1_aug:.4f}\")"
   ],
   "id": "1a26c7f4016f0b3b",
   "outputs": [
    {
     "name": "stdout",
     "output_type": "stream",
     "text": [
      "\n",
      "Training model on augmented train set\n",
      "Epoch 1/50, Loss: 1.2413\n",
      "Epoch 2/50, Loss: 0.7145\n",
      "Epoch 3/50, Loss: 0.6934\n",
      "Epoch 4/50, Loss: 0.6005\n",
      "Epoch 5/50, Loss: 0.5836\n",
      "Epoch 6/50, Loss: 0.5549\n",
      "Epoch 7/50, Loss: 0.5984\n",
      "Epoch 8/50, Loss: 0.4905\n",
      "Epoch 9/50, Loss: 0.4780\n",
      "Epoch 10/50, Loss: 0.3439\n",
      "Epoch 11/50, Loss: 0.3253\n",
      "Epoch 12/50, Loss: 0.3822\n",
      "Epoch 13/50, Loss: 0.2950\n",
      "Epoch 14/50, Loss: 0.3022\n",
      "Epoch 15/50, Loss: 0.2930\n",
      "Epoch 16/50, Loss: 0.2306\n",
      "Epoch 17/50, Loss: 0.1968\n",
      "Epoch 18/50, Loss: 0.2053\n",
      "Epoch 19/50, Loss: 0.2214\n",
      "Epoch 20/50, Loss: 0.1635\n",
      "Epoch 21/50, Loss: 0.2287\n",
      "Epoch 22/50, Loss: 0.1273\n",
      "Epoch 23/50, Loss: 0.1222\n",
      "Epoch 24/50, Loss: 0.1885\n",
      "Epoch 25/50, Loss: 0.2394\n",
      "Epoch 26/50, Loss: 0.1457\n",
      "Epoch 27/50, Loss: 0.1524\n",
      "Epoch 28/50, Loss: 0.1737\n",
      "Epoch 29/50, Loss: 0.1844\n",
      "Epoch 30/50, Loss: 0.1240\n",
      "Epoch 31/50, Loss: 0.1118\n",
      "Epoch 32/50, Loss: 0.1282\n",
      "Epoch 33/50, Loss: 0.1969\n",
      "Epoch 34/50, Loss: 0.1949\n",
      "Epoch 35/50, Loss: 0.2826\n",
      "Epoch 36/50, Loss: 0.1086\n",
      "Epoch 37/50, Loss: 0.0671\n",
      "Epoch 38/50, Loss: 0.0372\n",
      "Epoch 39/50, Loss: 0.0645\n",
      "Epoch 40/50, Loss: 0.0738\n",
      "Epoch 41/50, Loss: 0.0465\n",
      "Epoch 42/50, Loss: 0.0237\n",
      "Epoch 43/50, Loss: 0.1102\n",
      "Epoch 44/50, Loss: 0.0417\n",
      "Epoch 45/50, Loss: 0.1007\n",
      "Epoch 46/50, Loss: 0.1436\n",
      "Epoch 47/50, Loss: 0.0797\n",
      "Epoch 48/50, Loss: 0.1183\n",
      "Epoch 49/50, Loss: 0.0592\n",
      "Epoch 50/50, Loss: 0.0682\n",
      "Test metrics (With Augmentation):\n",
      "Accuracy: 0.6071, Precision: 0.6228, Recall: 0.6071, F1 Score: 0.5942\n"
     ]
    }
   ],
   "execution_count": 41
  },
  {
   "metadata": {
    "ExecuteTime": {
     "end_time": "2025-02-09T01:02:52.580971Z",
     "start_time": "2025-02-09T01:02:52.503018Z"
    }
   },
   "cell_type": "code",
   "source": [
    "import matplotlib.pyplot as plt\n",
    "\n",
    "\n",
    "def make_plots(dataset, title):\n",
    "    class_counts = {}\n",
    "\n",
    "    for _, label in dataset.samples:\n",
    "        class_counts[label] = class_counts.get(label, 0) + 1\n",
    "\n",
    "    # Map indices back to class names using dataset.class_to_idx\n",
    "    idx_to_class = {v: k for k, v in dataset.class_to_idx.items()}\n",
    "    classes = [idx_to_class[i] for i in sorted(idx_to_class)]\n",
    "    counts = [class_counts.get(i, 0) for i in sorted(idx_to_class)]\n",
    "\n",
    "    plt.bar(classes, counts)\n",
    "    plt.title(title)\n",
    "    plt.ylabel(\"Count\")\n",
    "    plt.show()\n",
    "\n",
    "\n",
    "make_plots(train_dataset, \"Original Train Set\")\n",
    "make_plots(augmented_dataset, \"Augmented Train Set\")\n",
    "\n",
    "combined_count = len(train_dataset) + len(augmented_dataset)\n",
    "print(f\"Original train set count: {len(train_dataset)}\")\n",
    "print(f\"Augmented train set count: {len(augmented_dataset)}\")\n",
    "print(f\"Combined train set count: {combined_count}\")"
   ],
   "id": "19b5a5eec709d405",
   "outputs": [
    {
     "data": {
      "text/plain": [
       "<Figure size 640x480 with 1 Axes>"
      ],
      "image/png": "[encoded data removed]"
     },
     "metadata": {},
     "output_type": "display_data"
    },
    {
     "data": {
      "text/plain": [
       "<Figure size 640x480 with 1 Axes>"
      ],
      "image/png": "[encoded data removed]"
     },
     "metadata": {},
     "output_type": "display_data"
    },
    {
     "name": "stdout",
     "output_type": "stream",
     "text": [
      "Original train set count: 112\n",
      "Augmented train set count: 224\n",
      "Combined train set count: 336\n"
     ]
    }
   ],
   "execution_count": 42
  },
  {
   "metadata": {},
   "cell_type": "code",
   "source": [
    "# plot the results_aug and results_no_aug\n",
    "\n",
    "def plot_results(results_no_aug, results_aug):\n",
    "    fig, axs = plt.subplots(1, 2, figsize=(12, 10))\n",
    "\n",
    "    for i, (title, results) in enumerate(zip([\"Accuracy\", \"Precision\", \"Recall\", \"F1 Score\"],\n",
    "                                             [results_no_aug, results_aug])):\n",
    "        for j, metric in enumerate(results[0]):\n",
    "            axs[i, j].plot([r[i] for r in results], label=\"No Augmentation\")\n",
    "            axs[i, j].plot([r[i] for r in results_aug], label=\"With Augmentation\")\n",
    "            axs[i, j].set_title(f\"{title} vs Epoch\")\n",
    "            axs[i, j].set_xlabel(\"Epoch\")\n",
    "            axs[i, j].set_ylabel(title)\n",
    "            axs[i, j].legend()\n",
    "\n",
    "    plt.tight_layout()\n",
    "    plt.show()\n",
    "    \n",
    "plot_results(results_no_aug, results_aug)"
   ],
   "id": "4f70151b58a1ac6d",
   "outputs": [],
   "execution_count": null
  }
 ],
 "metadata": {
  "kernelspec": {
   "display_name": "Python 3",
   "language": "python",
   "name": "python3"
  },
  "language_info": {
   "codemirror_mode": {
    "name": "ipython",
    "version": 2
   },
   "file_extension": ".py",
   "mimetype": "text/x-python",
   "name": "python",
   "nbconvert_exporter": "python",
   "pygments_lexer": "ipython2",
   "version": "2.7.6"
  }
 },
 "nbformat": 4,
 "nbformat_minor": 5
}
